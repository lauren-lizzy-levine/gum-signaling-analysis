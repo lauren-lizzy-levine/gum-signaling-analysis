{
 "nbformat": 4,
 "nbformat_minor": 0,
 "metadata": {
  "colab": {
   "provenance": [],
   "gpuType": "T4"
  },
  "kernelspec": {
   "name": "python3",
   "display_name": "Python 3"
  },
  "language_info": {
   "name": "python"
  },
  "accelerator": "GPU"
 },
 "cells": [
  {
   "cell_type": "code",
   "execution_count": null,
   "metadata": {
    "colab": {
     "base_uri": "https://localhost:8080/"
    },
    "id": "ioSqLVRyvUHT",
    "outputId": "3f45a31e-295e-4e7c-b7ac-479e0a953c75"
   },
   "outputs": [
    {
     "output_type": "stream",
     "name": "stderr",
     "text": [
      "/usr/local/lib/python3.10/dist-packages/huggingface_hub/utils/_token.py:88: UserWarning: \n",
      "The secret `HF_TOKEN` does not exist in your Colab secrets.\n",
      "To authenticate with the Hugging Face Hub, create a token in your settings tab (https://huggingface.co/settings/tokens), set it as secret in your Google Colab and restart your session.\n",
      "You will be able to reuse this secret in all of your notebooks.\n",
      "Please note that authentication is recommended but still optional to access public models or datasets.\n",
      "  warnings.warn(\n"
     ]
    },
    {
     "output_type": "stream",
     "name": "stdout",
     "text": [
      "cpu\n"
     ]
    }
   ],
   "source": [
    "import pandas as pd\n",
    "from typing import List\n",
    "import torch\n",
    "import transformers\n",
    "import json\n",
    "import matplotlib.pyplot as plt\n",
    "import seaborn as sns\n",
    "from scipy import stats\n",
    "from scipy.stats import mannwhitneyu\n",
    "import numpy as np\n",
    "import torch.nn.functional as F\n",
    "from transformers import GPT2Tokenizer, GPT2LMHeadModel\n",
    "tokenizer = GPT2Tokenizer.from_pretrained('gpt2', use_fast=False)\n",
    "model = GPT2LMHeadModel.from_pretrained('gpt2')\n",
    "bos_id = model.config.bos_token_id\n",
    "model.eval()\n",
    "\n",
    "device = 'cuda' if torch.cuda.is_available() else 'cpu'\n",
    "print(device)\n",
    "\n",
    "def preprocess(tokens):\n",
    "  inputs = tokenizer(tokens, is_split_into_words=True)\n",
    "  model_inputs = transformers.BatchEncoding({\n",
    "    \"input_ids\": torch.tensor([bos_id] + inputs.input_ids).unsqueeze(0),\n",
    "    \"attention_mask\": torch.tensor([1] + inputs.attention_mask).unsqueeze(0)\n",
    "})\n",
    "  with torch.no_grad(): # disable gradient computation\n",
    "    outputs = model(**model_inputs)\n",
    "    probs = F.softmax(outputs.logits, dim=-1)\n",
    "    probs = probs.squeeze(0)\n",
    "    surprisals = -1 * torch.log2(probs)\n",
    "    surprisals = surprisals[:-1]\n",
    "    token_ids = model_inputs.input_ids.squeeze(0)[1:]\n",
    "    tokens = tokenizer.convert_ids_to_tokens(model_inputs.input_ids.squeeze(0))[1:]\n",
    "    token_surprisal = surprisals[range(len(surprisals)), token_ids]\n",
    "    index = torch.arange(0, token_ids.shape[0])\n",
    "    surp = -1 * torch.log2(F.softmax(outputs.logits, dim=-1).squeeze(0)[index, token_ids])\n",
    "    tokens = tokenizer.convert_ids_to_tokens(token_ids.squeeze())\n",
    "    return tokens, token_surprisal\n",
    "\n",
    "def get_word_surprisal(tokens: List[str], token_surprisal: List[float]) -> pd.DataFrame:\n",
    "\n",
    "    word_surprisal = []\n",
    "    words = []\n",
    "\n",
    "    i = 0\n",
    "    temp_token = \" \"\n",
    "    temp_surprisal = 0\n",
    "\n",
    "    while i <= len(tokens)-1:\n",
    "\n",
    "        temp_token += tokens[i]\n",
    "        temp_surprisal += token_surprisal[i]\n",
    "\n",
    "        if i == len(tokens)-1 or tokens[i+1].startswith(\"Ġ\"):\n",
    "            # remove start-of-token indicator\n",
    "            words.append(temp_token[1:])\n",
    "            word_surprisal.append(temp_surprisal)\n",
    "            # reset temp token/surprisal\n",
    "            temp_surprisal = 0\n",
    "            temp_token = \"\"\n",
    "        i +=1\n",
    "    word_surprisal = [t.item() for t in word_surprisal]\n",
    "\n",
    "    perplexity = sum(word_surprisal)/len(word_surprisal)\n",
    "\n",
    "    return perplexity\n"
   ]
  },
  {
   "cell_type": "code",
   "source": [
    "from pathlib import Path\n",
    "explanation_since = [x.split('\\t')[1] for x in Path('../causality.tsv').read_text().strip().split('\\n')][1:]\n",
    "explanation_because = [x.split('\\t')[0] for x in Path('../causality.tsv').read_text().strip().split('\\n')][1:]"
   ],
   "metadata": {
    "id": "kE2sLPlTzT8u"
   },
   "execution_count": null,
   "outputs": []
  },
  {
   "cell_type": "code",
   "source": [
    "print(len(explanation_since), len(explanation_because))"
   ],
   "metadata": {
    "colab": {
     "base_uri": "https://localhost:8080/"
    },
    "id": "8ZxrIZusqXW7",
    "outputId": "7dfd9d40-4c02-4363-9d47-d4610b95f41b"
   },
   "execution_count": null,
   "outputs": [
    {
     "output_type": "stream",
     "name": "stdout",
     "text": [
      "126 126\n"
     ]
    }
   ]
  },
  {
   "cell_type": "code",
   "source": [
    "explanation_since = [x.lower() for x in explanation_since]\n",
    "explanation_because = [x.lower() for x in explanation_because]"
   ],
   "metadata": {
    "id": "q9oV1hOzV0cE"
   },
   "execution_count": null,
   "outputs": []
  },
  {
   "cell_type": "code",
   "source": [
    "len(explanation_since)"
   ],
   "metadata": {
    "colab": {
     "base_uri": "https://localhost:8080/"
    },
    "id": "H1fUkz4Rps9q",
    "outputId": "cb18bcdd-5e41-422d-d2fa-60167a6448fe"
   },
   "execution_count": null,
   "outputs": [
    {
     "output_type": "execute_result",
     "data": {
      "text/plain": [
       "126"
      ]
     },
     "metadata": {},
     "execution_count": 5
    }
   ]
  },
  {
   "cell_type": "code",
   "source": [
    "def cut_off_connect(explanation, connect='because'):\n",
    "  cut_sents = []\n",
    "  for sent in explanation:\n",
    "    try:\n",
    "      connect_index = sent.split().index(connect)\n",
    "      sent = ' '.join(sent.split()[:connect_index+1])\n",
    "      cut_sents.append(sent)\n",
    "    except:\n",
    "      print(sent)\n",
    "  return cut_sents\n",
    "\n",
    "explanation_since = cut_off_connect(explanation_since, 'since')\n",
    "explanation_because = cut_off_connect(explanation_because)\n"
   ],
   "metadata": {
    "id": "H6sQ70hs6mV-"
   },
   "execution_count": null,
   "outputs": []
  },
  {
   "cell_type": "code",
   "source": [
    "len(explanation_since)"
   ],
   "metadata": {
    "colab": {
     "base_uri": "https://localhost:8080/"
    },
    "id": "VDAwP0A2sZmh",
    "outputId": "3caefc48-e4c3-46f3-b7db-bd855da1250d"
   },
   "execution_count": null,
   "outputs": [
    {
     "output_type": "execute_result",
     "data": {
      "text/plain": [
       "126"
      ]
     },
     "metadata": {},
     "execution_count": 7
    }
   ]
  },
  {
   "cell_type": "code",
   "source": [
    "from tqdm import tqdm\n",
    "import scipy\n",
    "e=0\n",
    "s_surprisals = []\n",
    "b_surprisals = []\n",
    "for exp in tqdm(zip(explanation_since, explanation_because)):\n",
    "  try:\n",
    "    since_tokens, since_surprisals = preprocess(exp[0])\n",
    "    because_tokens, because_surprisals = preprocess(exp[1])\n",
    "\n",
    "    connective_s = get_word_surprisal(since_tokens, since_surprisals)\n",
    "    connective_b = get_word_surprisal(because_tokens, because_surprisals)\n",
    "\n",
    "    s_surprisals.append(connective_s)\n",
    "    b_surprisals.append(connective_b)\n",
    "  except:\n",
    "    e+=1\n",
    "    print('error')\n",
    "    print(e)\n",
    "\n",
    "# for exp in tqdm(explanation_because):\n",
    "#   try:\n",
    "\n",
    "#     because_last = exp.split()[-1]\n",
    "#     because_tokens, because_surprisals = preprocess(exp)\n",
    "#     connective_b = get_word_surprisal(because_tokens, because_surprisals)\n",
    "#     b_surprisals.append(connective_b)\n",
    "#   except:\n",
    "#     e+=1\n",
    "#     print('error')\n",
    "#     print(e)\n",
    "\n",
    "\n",
    "# for ex in tqdm(explanation_since):\n",
    "#   try:\n",
    "#     since_last = ex.split()[-1]\n",
    "#     since_tokens, since_surprisals = preprocess(ex)\n",
    "#     connective_s = get_word_surprisal(since_tokens, since_surprisals)\n",
    "#     s_surprisals.append(connective_s)\n",
    "#   except:\n",
    "#     e+=1\n",
    "#     print('error')\n",
    "#     print(e)\n",
    "\n",
    "# sorted_keys = sorted(surprisals)\n",
    "# surprisals = {key: surprisals[key] for key in sorted_keys}\n",
    "\n",
    "print(len(s_surprisals))\n",
    "print(len(b_surprisals))\n",
    "mean_surprisal_s = np.mean(s_surprisals)\n",
    "mean_surprisal_b = np.mean(b_surprisals)\n",
    "median_surprisal_s = np.median(s_surprisals)\n",
    "median_surprisal_b = np.median(b_surprisals)\n",
    "variance_surprisal_s = np.std(s_surprisals)\n",
    "variance_surprisal_b = np.std(b_surprisals)\n",
    "\n",
    "# Print statistics\n",
    "print(f'mean_surprisal_s: {mean_surprisal_s}')\n",
    "print(f'mean_surprisal_b: {mean_surprisal_b}')\n",
    "print(f'median_surprisal_s: {median_surprisal_s}')\n",
    "print(f'median_surprisal_b: {median_surprisal_b}')\n",
    "print(f'variance_surprisal_s: {variance_surprisal_s}')\n",
    "print(f'variance_surprisal_b: {variance_surprisal_b}')\n",
    "\n",
    "# Create box plots using seaborn or matplotlib\n",
    "plt.figure(figsize=(10, 6))\n",
    "sns.boxplot(data=[s_surprisals, b_surprisals])\n",
    "plt.xticks([0, 1], ['Since Surprisals', 'Because Surprisals'])\n",
    "plt.title('Box plot of Surprisal Values')\n",
    "plt.show()\n",
    "plt.savefig('surprisal_boxplot.png')\n",
    "\n",
    "plt.close()\n",
    "\n",
    "# Normality test\n",
    "_, p_value_i = stats.shapiro(s_surprisals)\n",
    "_, p_value_l = stats.shapiro(b_surprisals)\n",
    "print(\"Normality Test p-values: Idioms =\", p_value_i, \", Literals =\", p_value_l)\n",
    "\n",
    "# Equal variances test\n",
    "_, p_value_var = stats.levene(s_surprisals, b_surprisals)\n",
    "print(\"Equal Variance Test p-value:\", p_value_var)\n",
    "\n",
    "if p_value_var > 0.05:  # Equal variances\n",
    "    U1, p_value = mannwhitneyu(s_surprisals, b_surprisals)\n",
    "\n",
    "else:  # Unequal variances (Welch’s t-test)\n",
    "    t_stat, p_value = scipy.stats.ttest_ind(s_surprisals, b_surprisals, equal_var=False)\n",
    "\n",
    "n1 = len(s_surprisals)\n",
    "n2 = len(b_surprisals)\n",
    "U2 = n1*n2-U1\n",
    "print(f'U2{U2}')\n",
    "u_stat = min(U1, U2)\n",
    "# Calculate the rank-biserial correlation as effect size\n",
    "r = 1 - (2 * u_stat) / (n1 * n2)\n",
    "print(\"Effect size (rank-biserial correlation):\", r)\n",
    "print(\"U:\", u_stat, \"p-value:\", p_value)\n",
    "# Interpretation\n",
    "if p_value < 0.05:\n",
    "    print(\"Significant difference between groups\")\n",
    "else:\n",
    "    print(\"No significant difference between groups\")"
   ],
   "metadata": {
    "colab": {
     "base_uri": "https://localhost:8080/",
     "height": 976
    },
    "outputId": "f21fcf07-2ad3-481f-9c10-074a232dfffe",
    "id": "6BGTWCz0Vmz9"
   },
   "execution_count": null,
   "outputs": [
    {
     "output_type": "stream",
     "name": "stderr",
     "text": [
      "93it [00:52,  3.57it/s]"
     ]
    },
    {
     "output_type": "stream",
     "name": "stdout",
     "text": [
      "error\n",
      "1\n"
     ]
    },
    {
     "output_type": "stream",
     "name": "stderr",
     "text": [
      "126it [01:04,  1.97it/s]\n"
     ]
    },
    {
     "output_type": "stream",
     "name": "stdout",
     "text": [
      "125\n",
      "125\n",
      "mean_surprisal_s: 10.031508884429932\n",
      "mean_surprisal_b: 7.007589227676392\n",
      "median_surprisal_s: 9.891249656677246\n",
      "median_surprisal_b: 6.694368362426758\n",
      "variance_surprisal_s: 1.8772178962784618\n",
      "variance_surprisal_b: 2.3604645919313074\n"
     ]
    },
    {
     "output_type": "display_data",
     "data": {
      "text/plain": [
       "<Figure size 1000x600 with 1 Axes>"
      ],
      "image/png": "[encoded data removed]"
     },
     "metadata": {}
    },
    {
     "output_type": "stream",
     "name": "stdout",
     "text": [
      "Normality Test p-values: Idioms = 0.0036111949011683464 , Literals = 0.0025725727900862694\n",
      "Equal Variance Test p-value: 0.04314335951608319\n"
     ]
    },
    {
     "output_type": "error",
     "ename": "NameError",
     "evalue": "name 'U1' is not defined",
     "traceback": [
      "\u001B[0;31m---------------------------------------------------------------------------\u001B[0m",
      "\u001B[0;31mNameError\u001B[0m                                 Traceback (most recent call last)",
      "\u001B[0;32m<ipython-input-8-ad23dc541a41>\u001B[0m in \u001B[0;36m<cell line: 94>\u001B[0;34m()\u001B[0m\n\u001B[1;32m     92\u001B[0m \u001B[0mn1\u001B[0m \u001B[0;34m=\u001B[0m \u001B[0mlen\u001B[0m\u001B[0;34m(\u001B[0m\u001B[0ms_surprisals\u001B[0m\u001B[0;34m)\u001B[0m\u001B[0;34m\u001B[0m\u001B[0;34m\u001B[0m\u001B[0m\n\u001B[1;32m     93\u001B[0m \u001B[0mn2\u001B[0m \u001B[0;34m=\u001B[0m \u001B[0mlen\u001B[0m\u001B[0;34m(\u001B[0m\u001B[0mb_surprisals\u001B[0m\u001B[0;34m)\u001B[0m\u001B[0;34m\u001B[0m\u001B[0;34m\u001B[0m\u001B[0m\n\u001B[0;32m---> 94\u001B[0;31m \u001B[0mU2\u001B[0m \u001B[0;34m=\u001B[0m \u001B[0mn1\u001B[0m\u001B[0;34m*\u001B[0m\u001B[0mn2\u001B[0m\u001B[0;34m-\u001B[0m\u001B[0mU1\u001B[0m\u001B[0;34m\u001B[0m\u001B[0;34m\u001B[0m\u001B[0m\n\u001B[0m\u001B[1;32m     95\u001B[0m \u001B[0mprint\u001B[0m\u001B[0;34m(\u001B[0m\u001B[0;34mf'U2{U2}'\u001B[0m\u001B[0;34m)\u001B[0m\u001B[0;34m\u001B[0m\u001B[0;34m\u001B[0m\u001B[0m\n\u001B[1;32m     96\u001B[0m \u001B[0mu_stat\u001B[0m \u001B[0;34m=\u001B[0m \u001B[0mmin\u001B[0m\u001B[0;34m(\u001B[0m\u001B[0mU1\u001B[0m\u001B[0;34m,\u001B[0m \u001B[0mU2\u001B[0m\u001B[0;34m)\u001B[0m\u001B[0;34m\u001B[0m\u001B[0;34m\u001B[0m\u001B[0m\n",
      "\u001B[0;31mNameError\u001B[0m: name 'U1' is not defined"
     ]
    }
   ]
  },
  {
   "cell_type": "code",
   "source": [
    "import scipy\n",
    "if p_value_var > 0.05:  # Equal variances\n",
    "    U1, p_value = mannwhitneyu(s_surprisals, b_surprisals)\n",
    "\n",
    "else:  # Unequal variances (Welch’s t-test)\n",
    "    t_stat, p_value = scipy.stats.ttest_ind(s_surprisals, b_surprisals, equal_var=False)\n",
    "\n",
    "n1 = len(s_surprisals)\n",
    "n2 = len(b_surprisals)\n",
    "U2 = n1*n2-U1\n",
    "print(f'U2{U2}')\n",
    "u_stat = min(U1, U2)\n",
    "# Calculate the rank-biserial correlation as effect size\n",
    "r = 1 - (2 * u_stat) / (n1 * n2)\n",
    "print(\"Effect size (rank-biserial correlation):\", r)\n",
    "print(\"U:\", u_stat, \"p-value:\", p_value)\n",
    "# Interpretation\n",
    "if p_value < 0.05:\n",
    "    print(\"Significant difference between groups\")\n",
    "else:\n",
    "    print(\"No significant difference between groups\")"
   ],
   "metadata": {
    "colab": {
     "base_uri": "https://localhost:8080/"
    },
    "id": "OZBO0Rht4huq",
    "outputId": "59f826b0-afb5-4365-ac51-75159c139177"
   },
   "execution_count": null,
   "outputs": [
    {
     "output_type": "stream",
     "name": "stdout",
     "text": [
      "U215485.0\n",
      "Effect size (rank-biserial correlation): 0.98208\n",
      "U: 140.0 p-value: 1.6139222347296475e-23\n",
      "Significant difference between groups\n"
     ]
    }
   ]
  },
  {
   "cell_type": "code",
   "source": [
    "e=0\n",
    "s_surprisals = []\n",
    "b_surprisals = []\n",
    "for exp in zip(explanation_since, explanation_because):\n",
    "  try:\n",
    "    since_last = exp[0].split()[-1]\n",
    "    because_last = exp[1].split()[-1]\n",
    "    since_tokens, since_surprisals = preprocess(exp[0])\n",
    "    because_tokens, because_surprisals = preprocess(exp[1])\n",
    "\n",
    "    connective_s = get_word_surprisal(since_tokens, since_surprisals)\n",
    "    connective_b = get_word_surprisal(because_tokens, because_surprisals)\n",
    "\n",
    "    s_surprisals.append(connective_s)\n",
    "    b_surprisals.append(connective_b)\n",
    "  except:\n",
    "    e+=1\n",
    "    print('error')\n",
    "    print(e)\n",
    "\n",
    "# sorted_keys = sorted(surprisals)\n",
    "# surprisals = {key: surprisals[key] for key in sorted_keys}\n",
    "\n",
    "print(len(s_surprisals))\n",
    "print(len(b_surprisals))\n",
    "mean_surprisal_s = np.mean(s_surprisals)\n",
    "mean_surprisal_b = np.mean(b_surprisals)\n",
    "median_surprisal_s = np.median(s_surprisals)\n",
    "median_surprisal_b = np.median(b_surprisals)\n",
    "variance_surprisal_s = np.std(s_surprisals)\n",
    "variance_surprisal_b = np.std(b_surprisals)\n",
    "\n",
    "# Print statistics\n",
    "print(f'mean_surprisal_s: {mean_surprisal_s}')\n",
    "print(f'mean_surprisal_b: {mean_surprisal_b}')\n",
    "print(f'median_surprisal_s: {median_surprisal_s}')\n",
    "print(f'median_surprisal_b: {median_surprisal_b}')\n",
    "print(f'variance_surprisal_s: {variance_surprisal_s}')\n",
    "print(f'variance_surprisal_b: {variance_surprisal_b}')\n",
    "\n",
    "# Create box plots using seaborn or matplotlib\n",
    "plt.figure(figsize=(10, 6))\n",
    "sns.boxplot(data=[s_surprisals, b_surprisals])\n",
    "plt.xticks([0, 1], ['since Surprisals', 'because Surprisals'])\n",
    "plt.title('Box plot of Surprisal Values')\n",
    "plt.show()\n",
    "plt.savefig('surprisal_boxplot.png')\n",
    "\n",
    "plt.close()\n",
    "\n",
    "# Normality test\n",
    "_, p_value_i = stats.shapiro(s_surprisals)\n",
    "_, p_value_l = stats.shapiro(b_surprisals)\n",
    "print(\"Normality Test p-values: Idioms =\", p_value_i, \", Literals =\", p_value_l)\n",
    "\n",
    "# Equal variances test\n",
    "_, p_value_var = stats.levene(s_surprisals, b_surprisals)\n",
    "print(\"Equal Variance Test p-value:\", p_value_var)\n",
    "\n",
    "if p_value_var > 0.05:  # Equal variances\n",
    "    U1, p_value = mannwhitneyu(s_surprisals, b_surprisals)\n",
    "\n",
    "else:  # Unequal variances (Welch’s t-test)\n",
    "    t_stat, p_value = scipy.stats.ttest_ind(s_surprisals, b_surprisals, equal_var=False)\n",
    "\n",
    "n1 = len(s_surprisals)\n",
    "n2 = len(b_surprisals)\n",
    "U2 = n1*n2-U1\n",
    "print(f'U2{U2}')\n",
    "u_stat = min(U1, U2)\n",
    "# Calculate the rank-biserial correlation as effect size\n",
    "r = 1 - (2 * u_stat) / (n1 * n2)\n",
    "print(\"Effect size (rank-biserial correlation):\", r)\n",
    "print(\"U:\", u_stat, \"p-value:\", p_value)\n",
    "# Interpretation\n",
    "if p_value < 0.05:\n",
    "    print(\"Significant difference between groups\")\n",
    "else:\n",
    "    print(\"No significant difference between groups\")"
   ],
   "metadata": {
    "colab": {
     "base_uri": "https://localhost:8080/",
     "height": 795
    },
    "outputId": "6eb7ccab-533d-4db0-c806-67df236559d2",
    "id": "2vjlYNfXVljz"
   },
   "execution_count": null,
   "outputs": [
    {
     "output_type": "stream",
     "name": "stdout",
     "text": [
      "126\n",
      "126\n",
      "mean_surprisal_s: 7.715059796927619\n",
      "mean_surprisal_b: 7.456325599443291\n",
      "median_surprisal_s: 7.515347330540391\n",
      "median_surprisal_b: 7.229642180198965\n",
      "variance_surprisal_s: 1.5080247579045993\n",
      "variance_surprisal_b: 1.4637354314496378\n"
     ]
    },
    {
     "output_type": "display_data",
     "data": {
      "text/plain": [
       "<Figure size 1000x600 with 1 Axes>"
      ],
      "image/png": "[encoded data removed]"
     },
     "metadata": {}
    },
    {
     "output_type": "stream",
     "name": "stdout",
     "text": [
      "Normality Test p-values: Idioms = 0.00048597302520647645 , Literals = 6.374862277880311e-05\n",
      "Equal Variance Test p-value: 0.6375092524732231\n",
      "U27079.0\n",
      "Effect size (rank-biserial correlation): 0.10821365583270348\n",
      "U: 7079.0 p-value: 0.13783954790101982\n",
      "No significant difference between groups\n"
     ]
    }
   ]
  },
  {
   "cell_type": "code",
   "source": [
    "explanation_since = [x.lower() for x in explanation_since]\n",
    "explanation_because = [x.lower() for x in explanation_because]"
   ],
   "metadata": {
    "id": "TQB12QnB10UU"
   },
   "execution_count": null,
   "outputs": []
  },
  {
   "cell_type": "code",
   "source": [
    "def cut_off_connectives(explanation, add_token, connective='since'):\n",
    "  explanation_s = []\n",
    "  for exp in explanation:\n",
    "    exp = exp.split()\n",
    "    since_index = exp.index(connective)\n",
    "    exp = exp[:since_index+1]\n",
    "    exp = add_token + ' '.join(exp)\n",
    "    explanation_s.append(exp)\n",
    "  return explanation_s\n",
    "\n",
    "explanation_since = cut_off_connectives(explanation_since,  'actually, ', 'since' )\n",
    "explanation_because = cut_off_connectives(explanation_since, 'hypothetically,', 'since' )\n",
    "# explanation_because = cut_off_connectives(explanation_because, 'because')"
   ],
   "metadata": {
    "id": "4X4z9uli2Gtt"
   },
   "execution_count": null,
   "outputs": []
  },
  {
   "cell_type": "code",
   "source": [
    "explanation_since"
   ],
   "metadata": {
    "colab": {
     "base_uri": "https://localhost:8080/"
    },
    "id": "yq4fMHKg5VGs",
    "outputId": "cc41535c-c4a1-4f5b-8326-b62ed1326069"
   },
   "execution_count": null,
   "outputs": [
    {
     "output_type": "execute_result",
     "data": {
      "text/plain": [
       "['actually, the attention is the main point made in this study , since',\n",
       " 'actually, it is widely accepted that the corrections of the sea surface and atmospheric effects are essential for remote sensing of sss , since',\n",
       " \"actually, i think it 'll do fine with a cast , especially since\",\n",
       " 'actually, it ’s neither necessary , possible , nor desirable to erase all gender norms , since',\n",
       " 'actually, but something in the way he says it ( especially since',\n",
       " \"actually, that makes more sense , why would monsters be afraid of monsters ? they would n't ... if whatever was outside was like them . which raises the question : what do monsters consider monsters ? humans it seems unlikely , since\",\n",
       " 'actually, (3) it s understandable , since',\n",
       " 'actually, which are certainly worth the while since',\n",
       " 'actually, which the remaining population does a commendable job trying to maintain , since',\n",
       " \"actually, that 's a sign of arrogance , since\",\n",
       " 'actually, they need to be planted 6 inches apart , since',\n",
       " 'actually, it is recommend that you use short words since',\n",
       " 'actually, or just simply walk since',\n",
       " \"actually, then why not make the word birds ' vogelaviatiolaps ' since\"]"
      ]
     },
     "metadata": {},
     "execution_count": 146
    }
   ]
  },
  {
   "cell_type": "code",
   "source": [
    "e=0\n",
    "s_surprisals = []\n",
    "b_surprisals = []\n",
    "for exp in zip(explanation_since, explanation_because):\n",
    "  try:\n",
    "    since_last = exp[0].split()[-1]\n",
    "    because_last = exp[1].split()[-1]\n",
    "    since_tokens, since_surprisals = preprocess(exp[0])\n",
    "    because_tokens, because_surprisals = preprocess(exp[1])\n",
    "\n",
    "    connective_s = get_word_surprisal(since_tokens, since_surprisals)\n",
    "    connective_b = get_word_surprisal(because_tokens, because_surprisals)\n",
    "\n",
    "    s_surprisals.append(connective_s)\n",
    "    b_surprisals.append(connective_b)\n",
    "  except:\n",
    "    e+=1\n",
    "    print('error')\n",
    "    print(e)\n",
    "\n",
    "# sorted_keys = sorted(surprisals)\n",
    "# surprisals = {key: surprisals[key] for key in sorted_keys}\n",
    "\n",
    "print(len(s_surprisals))\n",
    "print(len(b_surprisals))\n",
    "mean_surprisal_s = np.mean(s_surprisals)\n",
    "mean_surprisal_b = np.mean(b_surprisals)\n",
    "median_surprisal_s = np.median(s_surprisals)\n",
    "median_surprisal_b = np.median(b_surprisals)\n",
    "variance_surprisal_s = np.std(s_surprisals)\n",
    "variance_surprisal_b = np.std(b_surprisals)\n",
    "\n",
    "# Print statistics\n",
    "print(f'mean_surprisal_s: {mean_surprisal_s}')\n",
    "print(f'mean_surprisal_b: {mean_surprisal_b}')\n",
    "print(f'median_surprisal_s: {median_surprisal_s}')\n",
    "print(f'median_surprisal_b: {median_surprisal_b}')\n",
    "print(f'variance_surprisal_s: {variance_surprisal_s}')\n",
    "print(f'variance_surprisal_b: {variance_surprisal_b}')\n",
    "\n",
    "# Create box plots using seaborn or matplotlib\n",
    "plt.figure(figsize=(10, 6))\n",
    "sns.boxplot(data=[s_surprisals, b_surprisals])\n",
    "plt.xticks([0, 1], ['since Surprisals', 'because Surprisals'])\n",
    "plt.title('Box plot of Surprisal Values')\n",
    "plt.show()\n",
    "plt.savefig('surprisal_boxplot.png')\n",
    "\n",
    "plt.close()\n",
    "\n",
    "# Normality test\n",
    "_, p_value_i = stats.shapiro(s_surprisals)\n",
    "_, p_value_l = stats.shapiro(b_surprisals)\n",
    "print(\"Normality Test p-values: Idioms =\", p_value_i, \", Literals =\", p_value_l)\n",
    "\n",
    "# Equal variances test\n",
    "_, p_value_var = stats.levene(s_surprisals, b_surprisals)\n",
    "print(\"Equal Variance Test p-value:\", p_value_var)\n",
    "\n",
    "if p_value_var > 0.05:  # Equal variances\n",
    "    U1, p_value = mannwhitneyu(s_surprisals, b_surprisals)\n",
    "\n",
    "else:  # Unequal variances (Welch’s t-test)\n",
    "    t_stat, p_value = scipy.stats.ttest_ind(s_surprisals, b_surprisals, equal_var=False)\n",
    "\n",
    "n1 = len(s_surprisals)\n",
    "n2 = len(b_surprisals)\n",
    "U2 = n1*n2-U1\n",
    "print(f'U2{U2}')\n",
    "u_stat = min(U1, U2)\n",
    "# Calculate the rank-biserial correlation as effect size\n",
    "r = 1 - (2 * u_stat) / (n1 * n2)\n",
    "print(\"Effect size (rank-biserial correlation):\", r)\n",
    "print(\"U:\", u_stat, \"p-value:\", p_value)\n",
    "# Interpretation\n",
    "if p_value < 0.05:\n",
    "    print(\"Significant difference between groups\")\n",
    "else:\n",
    "    print(\"No significant difference between groups\")"
   ],
   "metadata": {
    "colab": {
     "base_uri": "https://localhost:8080/",
     "height": 1000
    },
    "id": "yDcYndwfvhVO",
    "outputId": "797fea7a-d860-45ea-efd7-c039ce43cfd0"
   },
   "execution_count": null,
   "outputs": [
    {
     "output_type": "stream",
     "name": "stdout",
     "text": [
      "since\n",
      "since\n",
      "since\n",
      "since\n",
      "since\n",
      "since\n",
      "since\n",
      "since\n",
      "since\n",
      "since\n",
      "since\n",
      "since\n",
      "since\n",
      "since\n",
      "14\n",
      "14\n",
      "mean_surprisal_s: 9.380548875248222\n",
      "mean_surprisal_b: 12.155020808500515\n",
      "median_surprisal_s: 8.582266744287622\n",
      "median_surprisal_b: 11.075443177244495\n",
      "variance_surprisal_s: 2.3283120612701746\n",
      "variance_surprisal_b: 3.111156238424221\n"
     ]
    },
    {
     "output_type": "display_data",
     "data": {
      "text/plain": [
       "<Figure size 1000x600 with 1 Axes>"
      ],
      "image/png": "[encoded data removed]"
     },
     "metadata": {}
    },
    {
     "output_type": "stream",
     "name": "stdout",
     "text": [
      "Normality Test p-values: Idioms = 0.011853818781673908 , Literals = 0.03413316234946251\n",
      "Equal Variance Test p-value: 0.4863868680256952\n",
      "U2153.0\n",
      "Effect size (rank-biserial correlation): 0.5612244897959184\n",
      "U: 43.0 p-value: 0.012274648109661161\n",
      "Significant difference between groups\n"
     ]
    }
   ]
  },
  {
   "cell_type": "code",
   "source": [
    "e=0\n",
    "s_surprisals = []\n",
    "b_surprisals = []\n",
    "for exp in zip(explanation_since, explanation_because):\n",
    "  try:\n",
    "    since_last = exp[0].split()[-1]\n",
    "    because_last = exp[1].split()[-1]\n",
    "    since_tokens, since_surprisals = preprocess(exp[0])\n",
    "    because_tokens, because_surprisals = preprocess(exp[1])\n",
    "\n",
    "    s, connective_s = get_word_surprisal(since_tokens, since_surprisals)\n",
    "    b, connective_b = get_word_surprisal(because_tokens, because_surprisals)\n",
    "\n",
    "    s_surprisals.append(connective_s)\n",
    "    b_surprisals.append(connective_b)\n",
    "  except:\n",
    "    e+=1\n",
    "    print('error')\n",
    "    print(e)\n",
    "\n",
    "# sorted_keys = sorted(surprisals)\n",
    "# surprisals = {key: surprisals[key] for key in sorted_keys}\n",
    "\n",
    "print(len(s_surprisals))\n",
    "print(len(b_surprisals))\n",
    "mean_surprisal_s = np.mean(s_surprisals)\n",
    "mean_surprisal_b = np.mean(b_surprisals)\n",
    "median_surprisal_s = np.median(s_surprisals)\n",
    "median_surprisal_b = np.median(b_surprisals)\n",
    "variance_surprisal_s = np.std(s_surprisals)\n",
    "variance_surprisal_b = np.std(b_surprisals)\n",
    "\n",
    "# Print statistics\n",
    "print(f'mean_surprisal_s: {mean_surprisal_s}')\n",
    "print(f'mean_surprisal_b: {mean_surprisal_b}')\n",
    "print(f'median_surprisal_s: {median_surprisal_s}')\n",
    "print(f'median_surprisal_b: {median_surprisal_b}')\n",
    "print(f'variance_surprisal_s: {variance_surprisal_s}')\n",
    "print(f'variance_surprisal_b: {variance_surprisal_b}')\n",
    "\n",
    "# Create box plots using seaborn or matplotlib\n",
    "plt.figure(figsize=(10, 6))\n",
    "sns.boxplot(data=[s_surprisals, b_surprisals])\n",
    "plt.xticks([0, 1], ['since Surprisals', 'because Surprisals'])\n",
    "plt.title('Box plot of Surprisal Values')\n",
    "plt.show()\n",
    "plt.savefig('surprisal_boxplot.png')\n",
    "\n",
    "plt.close()\n",
    "\n",
    "# Normality test\n",
    "_, p_value_i = stats.shapiro(s_surprisals)\n",
    "_, p_value_l = stats.shapiro(b_surprisals)\n",
    "print(\"Normality Test p-values: Idioms =\", p_value_i, \", Literals =\", p_value_l)\n",
    "\n",
    "# Equal variances test\n",
    "_, p_value_var = stats.levene(s_surprisals, b_surprisals)\n",
    "print(\"Equal Variance Test p-value:\", p_value_var)\n",
    "\n",
    "if p_value_var > 0.05:  # Equal variances\n",
    "    U1, p_value = mannwhitneyu(s_surprisals, b_surprisals)\n",
    "\n",
    "else:  # Unequal variances (Welch’s t-test)\n",
    "    t_stat, p_value = scipy.stats.ttest_ind(s_surprisals, b_surprisals, equal_var=False)\n",
    "\n",
    "n1 = len(s_surprisals)\n",
    "n2 = len(b_surprisals)\n",
    "U2 = n1*n2-U1\n",
    "print(f'U2{U2}')\n",
    "u_stat = min(U1, U2)\n",
    "# Calculate the rank-biserial correlation as effect size\n",
    "r = 1 - (2 * u_stat) / (n1 * n2)\n",
    "print(\"Effect size (rank-biserial correlation):\", r)\n",
    "print(\"U:\", u_stat, \"p-value:\", p_value)\n",
    "# Interpretation\n",
    "if p_value < 0.05:\n",
    "    print(\"Significant difference between groups\")\n",
    "else:\n",
    "    print(\"No significant difference between groups\")"
   ],
   "metadata": {
    "colab": {
     "base_uri": "https://localhost:8080/",
     "height": 1000
    },
    "id": "Cg43jSAdJFaL",
    "outputId": "fb8bf20e-610e-4ba0-ff9a-b248aba4518d"
   },
   "execution_count": null,
   "outputs": [
    {
     "output_type": "stream",
     "name": "stdout",
     "text": [
      "['ctually,', 'the', 'attention', 'is', 'the', 'main', 'point', 'made', 'in', 'this', 'study', ',', 'since']\n",
      "[19.972187042236328, 3.84186053276062, 14.056195259094238, 4.219014644622803, 7.77495002746582, 6.781410217285156, 5.9329986572265625, 11.111777305603027, 3.0811960697174072, 2.9389445781707764, 8.136743545532227, 7.359181880950928, 6.631214618682861]\n",
      "['ypothetically,actually,', 'the', 'attention', 'is', 'the', 'main', 'point', 'made', 'in', 'this', 'study', ',', 'since']\n",
      "[49.55934524536133, 4.592968463897705, 13.219470977783203, 4.679431915283203, 7.583697319030762, 6.49678373336792, 6.320009708404541, 11.19339656829834, 2.887209892272949, 3.091776132583618, 8.20032024383545, 7.264631748199463, 6.861074924468994]\n",
      "['ctually,', 'it', 'is', 'widely', 'accepted', 'that', 'the', 'corrections', 'of', 'the', 'sea', 'surface', 'and', 'atmospheric', 'effects', 'are', 'essential', 'for', 'remote', 'sensing', 'of', 'sss', ',', 'since']\n",
      "[19.972187042236328, 3.316457509994507, 3.4057090282440186, 12.787171363830566, 1.895026683807373, 0.47998759150505066, 2.542031764984131, 17.002685546875, 4.565807342529297, 2.0031821727752686, 11.611621856689453, 5.743724822998047, 5.148102760314941, 6.805360317230225, 8.79214859008789, 2.3819847106933594, 10.711870193481445, 1.7076514959335327, 15.521283149719238, 1.1153666973114014, 2.465153217315674, 26.478511810302734, 9.3786039352417, 6.132678031921387]\n",
      "['ypothetically,actually,', 'it', 'is', 'widely', 'accepted', 'that', 'the', 'corrections', 'of', 'the', 'sea', 'surface', 'and', 'atmospheric', 'effects', 'are', 'essential', 'for', 'remote', 'sensing', 'of', 'sss', ',', 'since']\n",
      "[49.55934524536133, 4.889120101928711, 3.4441776275634766, 12.811753273010254, 1.7778786420822144, 0.37273910641670227, 2.672152280807495, 18.13370132446289, 4.348552703857422, 2.271225929260254, 11.449430465698242, 4.334200859069824, 5.11696195602417, 6.4230499267578125, 9.086763381958008, 2.483509063720703, 10.226000785827637, 1.5795944929122925, 15.987142562866211, 1.1781529188156128, 2.2343735694885254, 26.876724243164062, 9.684759140014648, 6.736319541931152]\n",
      "['ctually,', 'i', 'think', 'it', \"'ll\", 'do', 'fine', 'with', 'a', 'cast', ',', 'especially', 'since']\n",
      "[19.972187042236328, 5.769155979156494, 3.594677209854126, 2.4167301654815674, 21.080814361572266, 6.252633094787598, 5.153789043426514, 4.820047855377197, 4.0971150398254395, 12.920232772827148, 9.952439308166504, 6.824406623840332, 4.179001331329346]\n",
      "['ypothetically,actually,', 'i', 'think', 'it', \"'ll\", 'do', 'fine', 'with', 'a', 'cast', ',', 'especially', 'since']\n",
      "[49.55934524536133, 7.044511318206787, 3.288975477218628, 2.585113286972046, 22.217220306396484, 6.399348258972168, 5.300779819488525, 5.495597839355469, 3.8560094833374023, 12.639339447021484, 10.364874839782715, 6.650521278381348, 4.127169609069824]\n",
      "['ctually,', 'it', 'âĢĻs', 'neither', 'necessary', ',', 'possible', ',', 'nor', 'desirable', 'to', 'erase', 'all', 'gender', 'norms', ',', 'since']\n",
      "[19.972187042236328, 3.316457509994507, 36.315486907958984, 12.315027236938477, 7.5099077224731445, 10.16413402557373, 17.200393676757812, 1.985600471496582, 1.8600351810455322, 4.438388347625732, 3.525789737701416, 14.52828598022461, 5.1964826583862305, 12.273146629333496, 7.084452152252197, 5.237338542938232, 6.703679084777832]\n",
      "['ypothetically,actually,', 'it', 'âĢĻs', 'neither', 'necessary', ',', 'possible', ',', 'nor', 'desirable', 'to', 'erase', 'all', 'gender', 'norms', ',', 'since']\n",
      "[49.55934524536133, 4.889120101928711, 36.0620002746582, 11.851717948913574, 6.525103569030762, 10.006604194641113, 16.417646408081055, 1.7231768369674683, 2.254542589187622, 4.270605564117432, 3.4475927352905273, 14.55968952178955, 5.120826244354248, 11.681095123291016, 6.701169490814209, 5.0704145431518555, 7.046164035797119]\n",
      "['ctually,', 'but', 'something', 'in', 'the', 'way', 'he', 'says', 'it', '(', 'especially', 'since']\n",
      "[19.972187042236328, 7.607108116149902, 9.927595138549805, 6.158363342285156, 1.9335328340530396, 4.8389434814453125, 4.090651512145996, 5.227055072784424, 2.093820095062256, 7.279643535614014, 15.449690818786621, 4.547536373138428]\n",
      "['ypothetically,actually,', 'but', 'something', 'in', 'the', 'way', 'he', 'says', 'it', '(', 'especially', 'since']\n",
      "[49.55934524536133, 7.182405471801758, 10.293848991394043, 6.185894966125488, 1.9615657329559326, 4.281688213348389, 4.9602861404418945, 5.503249168395996, 2.270033597946167, 7.192224979400635, 15.731756210327148, 4.895281791687012]\n",
      "['ctually,', 'that', 'makes', 'more', 'sense', ',', 'why', 'would', 'monsters', 'be', 'afraid', 'of', 'monsters', '?', 'they', 'would', \"n't\", '...', 'if', 'whatever', 'was', 'outside', 'was', 'like', 'them', '.', 'which', 'raises', 'the', 'question', ':', 'what', 'do', 'monsters', 'consider', 'monsters', '?', 'humans', 'it', 'seems', 'unlikely', ',', 'since']\n",
      "[19.972187042236328, 4.507105827331543, 7.326170444488525, 5.498364448547363, 0.028419697657227516, 9.99939250946045, 8.771639823913574, 3.1547067165374756, 16.992712020874023, 3.1344876289367676, 8.609994888305664, 0.36781227588653564, 4.203455924987793, 4.105409145355225, 5.943573951721191, 4.371955394744873, 19.673828125, 11.109986305236816, 5.840954303741455, 13.5025634765625, 4.100275039672852, 8.778421401977539, 4.00905179977417, 7.064853191375732, 6.76754093170166, 6.8885979652404785, 7.996104717254639, 12.306565284729004, 1.4701770544052124, 0.593407154083252, 4.212089538574219, 3.0389370918273926, 4.714563846588135, 3.1613686084747314, 8.75349235534668, 6.632483005523682, 0.7942423820495605, 11.317455291748047, 10.528267860412598, 4.511157989501953, 11.602842330932617, 4.757558822631836, 6.440418720245361]\n",
      "['ypothetically,actually,', 'that', 'makes', 'more', 'sense', ',', 'why', 'would', 'monsters', 'be', 'afraid', 'of', 'monsters', '?', 'they', 'would', \"n't\", '...', 'if', 'whatever', 'was', 'outside', 'was', 'like', 'them', '.', 'which', 'raises', 'the', 'question', ':', 'what', 'do', 'monsters', 'consider', 'monsters', '?', 'humans', 'it', 'seems', 'unlikely', ',', 'since']\n",
      "[49.55934524536133, 5.981586933135986, 6.302618026733398, 5.57234525680542, 0.017768407240509987, 10.308505058288574, 9.612078666687012, 2.8977198600769043, 16.730222702026367, 3.0600502490997314, 8.43270206451416, 0.3572152853012085, 4.287659168243408, 4.224210739135742, 7.920078277587891, 3.7558183670043945, 20.296945571899414, 10.764256477355957, 5.801904201507568, 13.595144271850586, 4.277559280395508, 8.640714645385742, 4.131139278411865, 7.167187213897705, 6.623927593231201, 6.269750118255615, 8.376765251159668, 12.036643981933594, 1.4479504823684692, 0.560266375541687, 4.2861151695251465, 3.1073832511901855, 4.85214900970459, 2.9671554565429688, 8.489625930786133, 6.543117046356201, 0.7713713645935059, 11.499850273132324, 10.996603965759277, 4.585146903991699, 11.3555269241333, 4.5183892250061035, 6.425219535827637]\n",
      "['ctually,', '(3)', 'it', 's', 'understandable', ',', 'since']\n",
      "[19.972187042236328, 20.10790252685547, 6.739508152008057, 13.004961013793945, 14.820555686950684, 9.51923656463623, 6.439094066619873]\n",
      "['ypothetically,actually,', '(3)', 'it', 's', 'understandable', ',', 'since']\n",
      "[49.55934524536133, 19.892423629760742, 8.785840034484863, 13.5758638381958, 15.437129974365234, 9.850387573242188, 6.619988441467285]\n",
      "['ctually,', 'which', 'are', 'certainly', 'worth', 'the', 'while', 'since']\n",
      "[19.972187042236328, 8.595768928527832, 7.802773952484131, 9.386438369750977, 7.496408939361572, 4.31199312210083, 8.296772003173828, 7.769631862640381]\n",
      "['ypothetically,actually,', 'which', 'are', 'certainly', 'worth', 'the', 'while', 'since']\n",
      "[49.55934524536133, 7.184904098510742, 7.426599502563477, 9.76311206817627, 8.109801292419434, 4.478221416473389, 7.93303108215332, 8.36458969116211]\n",
      "['ctually,', 'which', 'the', 'remaining', 'population', 'does', 'a', 'commendable', 'job', 'trying', 'to', 'maintain', ',', 'since']\n",
      "[19.972187042236328, 8.595768928527832, 7.707080364227295, 14.2090482711792, 11.731098175048828, 5.92001485824585, 9.419684410095215, 12.333831787109375, 0.2424704134464264, 10.227728843688965, 0.12493190914392471, 7.353506565093994, 10.45814323425293, 6.741418838500977]\n",
      "['ypothetically,actually,', 'which', 'the', 'remaining', 'population', 'does', 'a', 'commendable', 'job', 'trying', 'to', 'maintain', ',', 'since']\n",
      "[49.55934524536133, 7.184904098510742, 7.568544387817383, 13.218143463134766, 11.958015441894531, 6.183198928833008, 9.260416030883789, 12.384747505187988, 0.20664793252944946, 10.343724250793457, 0.10493464767932892, 6.677911758422852, 11.375473022460938, 8.724345207214355]\n",
      "['ctually,', 'that', \"'s\", 'a', 'sign', 'of', 'arrogance', ',', 'since']\n",
      "[19.972187042236328, 4.507105827331543, 17.5507869720459, 3.117635726928711, 9.918111801147461, 1.2274342775344849, 9.583236694335938, 8.199309349060059, 6.654916286468506]\n",
      "['ypothetically,actually,', 'that', \"'s\", 'a', 'sign', 'of', 'arrogance', ',', 'since']\n",
      "[49.55934524536133, 5.981586933135986, 17.821762084960938, 4.036137104034424, 9.780031204223633, 0.9958893060684204, 9.648918151855469, 8.451302528381348, 7.347130298614502]\n",
      "['ctually,', 'they', 'need', 'to', 'be', 'planted', '6', 'inches', 'apart', ',', 'since']\n",
      "[19.972187042236328, 5.197656154632568, 8.368056297302246, 0.8864821195602417, 2.782561779022217, 13.568243026733398, 12.525972366333008, 4.51554012298584, 3.567737340927124, 9.102265357971191, 7.191465854644775]\n",
      "['ypothetically,actually,', 'they', 'need', 'to', 'be', 'planted', '6', 'inches', 'apart', ',', 'since']\n",
      "[49.55934524536133, 6.636782646179199, 7.7416605949401855, 1.1308866739273071, 2.6122140884399414, 12.973560333251953, 12.616549491882324, 3.670689582824707, 3.6355020999908447, 9.547379493713379, 7.9475417137146]\n",
      "['ctually,', 'it', 'is', 'recommend', 'that', 'you', 'use', 'short', 'words', 'since']\n",
      "[19.972187042236328, 3.316457509994507, 3.4057090282440186, 16.87230110168457, 3.186398983001709, 0.9826952815055847, 3.7115161418914795, 11.434965133666992, 7.204254150390625, 9.430140495300293]\n",
      "['ypothetically,actually,', 'it', 'is', 'recommend', 'that', 'you', 'use', 'short', 'words', 'since']\n",
      "[49.55934524536133, 4.889120101928711, 3.4441776275634766, 16.129131317138672, 2.9376683235168457, 1.4902042150497437, 4.143797397613525, 11.091641426086426, 6.866157531738281, 10.42165470123291]\n",
      "['ctually,', 'or', 'just', 'simply', 'walk', 'since']\n",
      "[19.972179412841797, 10.154854774475098, 5.687197685241699, 8.411388397216797, 14.195552825927734, 14.795026779174805]\n",
      "['ypothetically,actually,', 'or', 'just', 'simply', 'walk', 'since']\n",
      "[49.55934524536133, 9.008073806762695, 5.875810623168945, 7.124569892883301, 16.325708389282227, 15.671561241149902]\n",
      "['ctually,', 'then', 'why', 'not', 'make', 'the', 'word', 'birds', \"'\", 'vogelaviatiolaps', \"'\", 'since']\n",
      "[19.972187042236328, 9.014471054077148, 4.443314552307129, 4.3254218101501465, 5.463747501373291, 3.3848159313201904, 10.768268585205078, 16.279037475585938, 9.71701717376709, 83.49026489257812, 6.455054759979248, 8.846491813659668]\n",
      "['ypothetically,actually,', 'then', 'why', 'not', 'make', 'the', 'word', 'birds', \"'\", 'vogelaviatiolaps', \"'\", 'since']\n",
      "[49.55934524536133, 8.861495018005371, 5.617213249206543, 3.700498104095459, 4.8296332359313965, 3.116600275039673, 10.615050315856934, 17.370872497558594, 9.55282211303711, 84.52642822265625, 6.483975410461426, 9.673440933227539]\n",
      "14\n",
      "14\n",
      "mean_surprisal_s: 7.321622439793178\n",
      "mean_surprisal_b: 7.918677261897495\n",
      "median_surprisal_s: 6.679297685623169\n",
      "median_surprisal_b: 7.1966471672058105\n",
      "variance_surprisal_s: 2.4643274499333954\n",
      "variance_surprisal_b: 2.690432391094644\n"
     ]
    },
    {
     "output_type": "display_data",
     "data": {
      "text/plain": [
       "<Figure size 1000x600 with 1 Axes>"
      ],
      "image/png": "[encoded data removed]"
     },
     "metadata": {}
    },
    {
     "output_type": "stream",
     "name": "stdout",
     "text": [
      "Normality Test p-values: Idioms = 0.00392919359728694 , Literals = 0.03550426661968231\n",
      "Equal Variance Test p-value: 0.6688395436689119\n",
      "U2119.0\n",
      "Effect size (rank-biserial correlation): 0.2142857142857143\n",
      "U: 77.0 p-value: 0.3462297896371177\n",
      "No significant difference between groups\n"
     ]
    }
   ]
  },
  {
   "cell_type": "code",
   "source": [],
   "metadata": {
    "id": "qX-asesj54GB"
   },
   "execution_count": null,
   "outputs": []
  }
 ]
}
